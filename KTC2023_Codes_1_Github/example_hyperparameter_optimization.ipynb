{
  "nbformat": 4,
  "nbformat_minor": 0,
  "metadata": {
    "colab": {
      "provenance": []
    },
    "kernelspec": {
      "display_name": "Python 3",
      "name": "python3"
    },
    "language_info": {
      "name": "python"
    }
  },
  "cells": [
    {
      "cell_type": "markdown",
      "source": [
        "# Instaling Optuna"
      ],
      "metadata": {
        "id": "iRIv07ilGW66"
      }
    },
    {
      "cell_type": "code",
      "source": [
        "%%capture\n",
        "!pip install optuna"
      ],
      "metadata": {
        "id": "RH9ohzG-GZ0O"
      },
      "execution_count": 1,
      "outputs": []
    },
    {
      "cell_type": "markdown",
      "metadata": {
        "id": "AQh9qO4h3DRJ"
      },
      "source": [
        "# Cloning the repository"
      ]
    },
    {
      "cell_type": "code",
      "metadata": {
        "id": "seRVx1Wvsnzd",
        "colab": {
          "base_uri": "https://localhost:8080/"
        },
        "outputId": "8ab2371c-d4eb-4468-bea1-3e912cccdb23"
      },
      "source": [
        "!git clone https://github.com/robert-abc/KTC2023-ABC1.git --branch main"
      ],
      "execution_count": 13,
      "outputs": [
        {
          "output_type": "stream",
          "name": "stdout",
          "text": [
            "Cloning into 'KTC2023-ABC1'...\n",
            "remote: Enumerating objects: 130, done.\u001b[K\n",
            "remote: Counting objects: 100% (58/58), done.\u001b[K\n",
            "remote: Compressing objects: 100% (41/41), done.\u001b[K\n",
            "remote: Total 130 (delta 27), reused 41 (delta 15), pack-reused 72\u001b[K\n",
            "Receiving objects: 100% (130/130), 12.57 MiB | 24.65 MiB/s, done.\n",
            "Resolving deltas: 100% (38/38), done.\n"
          ]
        }
      ]
    },
    {
      "cell_type": "code",
      "metadata": {
        "colab": {
          "base_uri": "https://localhost:8080/"
        },
        "id": "dEfVVEbWK36A",
        "outputId": "80672c9c-97d6-43f6-e6e7-12a14dbf148f"
      },
      "source": [
        "%cd KTC2023-ABC1/KTC2023_Codes_1_Github"
      ],
      "execution_count": 14,
      "outputs": [
        {
          "output_type": "stream",
          "name": "stdout",
          "text": [
            "/content/KTC2023-ABC1/KTC2023_Codes_1_Github\n"
          ]
        }
      ]
    },
    {
      "cell_type": "markdown",
      "metadata": {
        "id": "sj_NiOA23v-J"
      },
      "source": [
        "# Generate the results"
      ]
    },
    {
      "cell_type": "code",
      "metadata": {
        "id": "-4U8FnwqtNwT"
      },
      "source": [
        "!python hyperparameter_optimization.py TrainingData GroundTruths optimization_study.pkl 100"
      ],
      "execution_count": null,
      "outputs": []
    },
    {
      "cell_type": "markdown",
      "source": [
        "# Visualize the results"
      ],
      "metadata": {
        "id": "29YD48QPHaq4"
      }
    },
    {
      "cell_type": "code",
      "source": [
        "import joblib"
      ],
      "metadata": {
        "id": "RxwYfUU8HdbZ"
      },
      "execution_count": 7,
      "outputs": []
    },
    {
      "cell_type": "code",
      "source": [
        "study = joblib.load('optimization_study.pkl')\n",
        "\n",
        "study.best_params"
      ],
      "metadata": {
        "colab": {
          "base_uri": "https://localhost:8080/"
        },
        "id": "2wY9o9A3Hg1Z",
        "outputId": "7494394b-d49f-4768-d605-f952c98178a4"
      },
      "execution_count": 9,
      "outputs": [
        {
          "output_type": "execute_result",
          "data": {
            "text/plain": [
              "{'smooth_lambda': 63.31359430081261,\n",
              " 'softThersh_perc': 0.2711794174230804,\n",
              " 'cnn_scale': 2.8188553442855544,\n",
              " 'morphOpen_radius': 10}"
            ]
          },
          "metadata": {},
          "execution_count": 9
        }
      ]
    }
  ]
}