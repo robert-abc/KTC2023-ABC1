{
  "cells": [
    {
      "cell_type": "markdown",
      "metadata": {
        "id": "iRIv07ilGW66"
      },
      "source": [
        "# Instaling Optuna"
      ]
    },
    {
      "cell_type": "code",
      "execution_count": 1,
      "metadata": {
        "id": "RH9ohzG-GZ0O"
      },
      "outputs": [],
      "source": [
        "%%capture\n",
        "!pip install optuna"
      ]
    },
    {
      "cell_type": "markdown",
      "metadata": {
        "id": "AQh9qO4h3DRJ"
      },
      "source": [
        "# Cloning the repository"
      ]
    },
    {
      "cell_type": "code",
      "execution_count": 13,
      "metadata": {
        "colab": {
          "base_uri": "https://localhost:8080/"
        },
        "id": "seRVx1Wvsnzd",
        "outputId": "8ab2371c-d4eb-4468-bea1-3e912cccdb23"
      },
      "outputs": [
        {
          "name": "stdout",
          "output_type": "stream",
          "text": [
            "Cloning into 'KTC2023-ABC1'...\n",
            "remote: Enumerating objects: 130, done.\u001b[K\n",
            "remote: Counting objects: 100% (58/58), done.\u001b[K\n",
            "remote: Compressing objects: 100% (41/41), done.\u001b[K\n",
            "remote: Total 130 (delta 27), reused 41 (delta 15), pack-reused 72\u001b[K\n",
            "Receiving objects: 100% (130/130), 12.57 MiB | 24.65 MiB/s, done.\n",
            "Resolving deltas: 100% (38/38), done.\n"
          ]
        }
      ],
      "source": [
        "!git clone https://github.com/robert-abc/KTC2023-ABC1.git --branch main"
      ]
    },
    {
      "cell_type": "code",
      "execution_count": 14,
      "metadata": {
        "colab": {
          "base_uri": "https://localhost:8080/"
        },
        "id": "dEfVVEbWK36A",
        "outputId": "80672c9c-97d6-43f6-e6e7-12a14dbf148f"
      },
      "outputs": [
        {
          "name": "stdout",
          "output_type": "stream",
          "text": [
            "/content/KTC2023-ABC1/KTC2023_Codes_1_Github\n"
          ]
        }
      ],
      "source": [
        "%cd KTC2023-ABC1/KTC2023_Python_A01+"
      ]
    },
    {
      "cell_type": "markdown",
      "metadata": {
        "id": "sj_NiOA23v-J"
      },
      "source": [
        "# Generate the results"
      ]
    },
    {
      "cell_type": "code",
      "execution_count": null,
      "metadata": {
        "id": "-4U8FnwqtNwT"
      },
      "outputs": [],
      "source": [
        "!python hyperparameter_optimization.py TrainingData GroundTruths optimization_study.pkl 100"
      ]
    },
    {
      "cell_type": "markdown",
      "metadata": {
        "id": "29YD48QPHaq4"
      },
      "source": [
        "# Visualize the results"
      ]
    },
    {
      "cell_type": "code",
      "execution_count": 7,
      "metadata": {
        "id": "RxwYfUU8HdbZ"
      },
      "outputs": [],
      "source": [
        "import joblib"
      ]
    },
    {
      "cell_type": "code",
      "execution_count": 9,
      "metadata": {
        "colab": {
          "base_uri": "https://localhost:8080/"
        },
        "id": "2wY9o9A3Hg1Z",
        "outputId": "7494394b-d49f-4768-d605-f952c98178a4"
      },
      "outputs": [
        {
          "data": {
            "text/plain": [
              "{'smooth_lambda': 63.31359430081261,\n",
              " 'softThersh_perc': 0.2711794174230804,\n",
              " 'cnn_scale': 2.8188553442855544,\n",
              " 'morphOpen_radius': 10}"
            ]
          },
          "execution_count": 9,
          "metadata": {},
          "output_type": "execute_result"
        }
      ],
      "source": [
        "study = joblib.load('optimization_study.pkl')\n",
        "\n",
        "study.best_params"
      ]
    }
  ],
  "metadata": {
    "colab": {
      "provenance": []
    },
    "kernelspec": {
      "display_name": "Python 3",
      "name": "python3"
    },
    "language_info": {
      "name": "python"
    }
  },
  "nbformat": 4,
  "nbformat_minor": 0
}
